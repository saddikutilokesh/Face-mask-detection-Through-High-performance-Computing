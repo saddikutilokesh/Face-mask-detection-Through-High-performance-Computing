{
  "nbformat": 4,
  "nbformat_minor": 0,
  "metadata": {
    "accelerator": "GPU",
    "colab": {
      "name": "elephas",
      "provenance": [],
      "collapsed_sections": []
    },
    "kernelspec": {
      "display_name": "Python 3",
      "name": "python3"
    }
  },
  "cells": [
    {
      "cell_type": "code",
      "metadata": {
        "id": "678VxTmSJLUJ"
      },
      "source": [
        "import numpy as np\n",
        "import matplotlib.pyplot as plt\n",
        "import pandas as pd"
      ],
      "execution_count": null,
      "outputs": []
    },
    {
      "cell_type": "code",
      "metadata": {
        "id": "Acrlz0u_CeWK",
        "outputId": "3a32e306-bdfa-44c9-97c6-9a3c760e020b",
        "colab": {
          "base_uri": "https://localhost:8080/"
        }
      },
      "source": [
        "import os\n",
        " \n",
        "# Install java\n",
        "! apt-get update -qq\n",
        "! apt-get install -y openjdk-8-jdk-headless -qq > /dev/null\n",
        " \n",
        "os.environ[\"JAVA_HOME\"] = \"/usr/lib/jvm/java-8-openjdk-amd64\"\n",
        "os.environ[\"PATH\"] = os.environ[\"JAVA_HOME\"] + \"/bin:\" + os.environ[\"PATH\"]\n",
        "! java -version\n",
        " \n",
        "# Install pyspark\n",
        "! pip install --ignore-installed pyspark==2.4.4"
      ],
      "execution_count": null,
      "outputs": [
        {
          "output_type": "stream",
          "text": [
            "openjdk version \"1.8.0_272\"\n",
            "OpenJDK Runtime Environment (build 1.8.0_272-8u272-b10-0ubuntu1~18.04-b10)\n",
            "OpenJDK 64-Bit Server VM (build 25.272-b10, mixed mode)\n",
            "Collecting pyspark==2.4.4\n",
            "\u001b[?25l  Downloading https://files.pythonhosted.org/packages/87/21/f05c186f4ddb01d15d0ddc36ef4b7e3cedbeb6412274a41f26b55a650ee5/pyspark-2.4.4.tar.gz (215.7MB)\n",
            "\u001b[K     |████████████████████████████████| 215.7MB 65kB/s \n",
            "\u001b[?25hCollecting py4j==0.10.7\n",
            "\u001b[?25l  Downloading https://files.pythonhosted.org/packages/e3/53/c737818eb9a7dc32a7cd4f1396e787bd94200c3997c72c1dbe028587bd76/py4j-0.10.7-py2.py3-none-any.whl (197kB)\n",
            "\u001b[K     |████████████████████████████████| 204kB 43.5MB/s \n",
            "\u001b[?25hBuilding wheels for collected packages: pyspark\n",
            "  Building wheel for pyspark (setup.py) ... \u001b[?25l\u001b[?25hdone\n",
            "  Created wheel for pyspark: filename=pyspark-2.4.4-py2.py3-none-any.whl size=216130389 sha256=999d9df992e8ae32f92922e4154420d5b50b9036565f856f2316af2f8010748e\n",
            "  Stored in directory: /root/.cache/pip/wheels/ab/09/4d/0d184230058e654eb1b04467dbc1292f00eaa186544604b471\n",
            "Successfully built pyspark\n",
            "Installing collected packages: py4j, pyspark\n",
            "Successfully installed py4j-0.10.7 pyspark-2.4.4\n"
          ],
          "name": "stdout"
        }
      ]
    },
    {
      "cell_type": "code",
      "metadata": {
        "id": "oKore3tydHEu",
        "outputId": "0b9cfbb1-ee4d-4dbb-e52e-cf87e80e4a68",
        "colab": {
          "base_uri": "https://localhost:8080/",
          "height": 1000
        }
      },
      "source": [
        "!pip install systemml\n",
        "!pip install tensorflow==1.9.0\n",
        "!pip install Keras==2.2.0\n",
        "!pip install Keras-Applications==1.0.4\n",
        "!pip install Keras-Preprocessing==1.0.2"
      ],
      "execution_count": null,
      "outputs": [
        {
          "output_type": "stream",
          "text": [
            "Collecting systemml\n",
            "\u001b[?25l  Downloading https://files.pythonhosted.org/packages/b1/94/62104cb8c526b462cd501c7319926fb81ac9a5668574a0b3407658a506ab/systemml-1.2.0.tar.gz (9.7MB)\n",
            "\u001b[K     |████████████████████████████████| 9.7MB 8.2MB/s \n",
            "\u001b[?25hRequirement already satisfied: numpy>=1.8.2 in /usr/local/lib/python3.6/dist-packages (from systemml) (1.18.5)\n",
            "Requirement already satisfied: scipy>=0.15.1 in /usr/local/lib/python3.6/dist-packages (from systemml) (1.4.1)\n",
            "Requirement already satisfied: pandas in /usr/local/lib/python3.6/dist-packages (from systemml) (1.1.4)\n",
            "Requirement already satisfied: scikit-learn in /usr/local/lib/python3.6/dist-packages (from systemml) (0.22.2.post1)\n",
            "Requirement already satisfied: Pillow>=2.0.0 in /usr/local/lib/python3.6/dist-packages (from systemml) (7.0.0)\n",
            "Requirement already satisfied: python-dateutil>=2.7.3 in /usr/local/lib/python3.6/dist-packages (from pandas->systemml) (2.8.1)\n",
            "Requirement already satisfied: pytz>=2017.2 in /usr/local/lib/python3.6/dist-packages (from pandas->systemml) (2018.9)\n",
            "Requirement already satisfied: joblib>=0.11 in /usr/local/lib/python3.6/dist-packages (from scikit-learn->systemml) (0.17.0)\n",
            "Requirement already satisfied: six>=1.5 in /usr/local/lib/python3.6/dist-packages (from python-dateutil>=2.7.3->pandas->systemml) (1.15.0)\n",
            "Building wheels for collected packages: systemml\n",
            "  Building wheel for systemml (setup.py) ... \u001b[?25l\u001b[?25hdone\n",
            "  Created wheel for systemml: filename=systemml-1.2.0-cp36-none-any.whl size=9724742 sha256=03a3410748a73ed94186a82d7c43418b5e1b7dcb74a48b2e7c8d1af02e540780\n",
            "  Stored in directory: /root/.cache/pip/wheels/cf/07/79/b3ed6f12afe06b2ab55d60dcfd62e66240f5d8c6088a518177\n",
            "Successfully built systemml\n",
            "Installing collected packages: systemml\n",
            "Successfully installed systemml-1.2.0\n",
            "Collecting tensorflow==1.9.0\n",
            "\u001b[?25l  Downloading https://files.pythonhosted.org/packages/86/95/274190b39950e1e9eef4b071acefea832ac3e2c19bb4b442fa54f3214d2e/tensorflow-1.9.0-cp36-cp36m-manylinux1_x86_64.whl (51.1MB)\n",
            "\u001b[K     |████████████████████████████████| 51.1MB 53kB/s \n",
            "\u001b[?25hCollecting tensorboard<1.10.0,>=1.9.0\n",
            "\u001b[?25l  Downloading https://files.pythonhosted.org/packages/9e/1f/3da43860db614e294a034e42d4be5c8f7f0d2c75dc1c428c541116d8cdab/tensorboard-1.9.0-py3-none-any.whl (3.3MB)\n",
            "\u001b[K     |████████████████████████████████| 3.3MB 47.7MB/s \n",
            "\u001b[?25hRequirement already satisfied: termcolor>=1.1.0 in /usr/local/lib/python3.6/dist-packages (from tensorflow==1.9.0) (1.1.0)\n",
            "Requirement already satisfied: astor>=0.6.0 in /usr/local/lib/python3.6/dist-packages (from tensorflow==1.9.0) (0.8.1)\n",
            "Requirement already satisfied: grpcio>=1.8.6 in /usr/local/lib/python3.6/dist-packages (from tensorflow==1.9.0) (1.33.2)\n",
            "Collecting setuptools<=39.1.0\n",
            "\u001b[?25l  Downloading https://files.pythonhosted.org/packages/8c/10/79282747f9169f21c053c562a0baa21815a8c7879be97abd930dbcf862e8/setuptools-39.1.0-py2.py3-none-any.whl (566kB)\n",
            "\u001b[K     |████████████████████████████████| 573kB 54.2MB/s \n",
            "\u001b[?25hRequirement already satisfied: protobuf>=3.4.0 in /usr/local/lib/python3.6/dist-packages (from tensorflow==1.9.0) (3.12.4)\n",
            "Requirement already satisfied: wheel>=0.26 in /usr/local/lib/python3.6/dist-packages (from tensorflow==1.9.0) (0.35.1)\n",
            "Requirement already satisfied: numpy>=1.13.3 in /usr/local/lib/python3.6/dist-packages (from tensorflow==1.9.0) (1.18.5)\n",
            "Requirement already satisfied: absl-py>=0.1.6 in /usr/local/lib/python3.6/dist-packages (from tensorflow==1.9.0) (0.10.0)\n",
            "Requirement already satisfied: gast>=0.2.0 in /usr/local/lib/python3.6/dist-packages (from tensorflow==1.9.0) (0.3.3)\n",
            "Requirement already satisfied: six>=1.10.0 in /usr/local/lib/python3.6/dist-packages (from tensorflow==1.9.0) (1.15.0)\n",
            "Requirement already satisfied: markdown>=2.6.8 in /usr/local/lib/python3.6/dist-packages (from tensorboard<1.10.0,>=1.9.0->tensorflow==1.9.0) (3.3.3)\n",
            "Requirement already satisfied: werkzeug>=0.11.10 in /usr/local/lib/python3.6/dist-packages (from tensorboard<1.10.0,>=1.9.0->tensorflow==1.9.0) (1.0.1)\n",
            "Requirement already satisfied: importlib-metadata; python_version < \"3.8\" in /usr/local/lib/python3.6/dist-packages (from markdown>=2.6.8->tensorboard<1.10.0,>=1.9.0->tensorflow==1.9.0) (2.0.0)\n",
            "Requirement already satisfied: zipp>=0.5 in /usr/local/lib/python3.6/dist-packages (from importlib-metadata; python_version < \"3.8\"->markdown>=2.6.8->tensorboard<1.10.0,>=1.9.0->tensorflow==1.9.0) (3.4.0)\n",
            "\u001b[31mERROR: xarray 0.15.1 has requirement setuptools>=41.2, but you'll have setuptools 39.1.0 which is incompatible.\u001b[0m\n",
            "\u001b[31mERROR: google-auth 1.17.2 has requirement setuptools>=40.3.0, but you'll have setuptools 39.1.0 which is incompatible.\u001b[0m\n",
            "\u001b[31mERROR: datascience 0.10.6 has requirement folium==0.2.1, but you'll have folium 0.8.3 which is incompatible.\u001b[0m\n",
            "Installing collected packages: tensorboard, setuptools, tensorflow\n",
            "  Found existing installation: tensorboard 2.3.0\n",
            "    Uninstalling tensorboard-2.3.0:\n",
            "      Successfully uninstalled tensorboard-2.3.0\n",
            "  Found existing installation: setuptools 50.3.2\n",
            "    Uninstalling setuptools-50.3.2:\n",
            "      Successfully uninstalled setuptools-50.3.2\n",
            "  Found existing installation: tensorflow 2.3.0\n",
            "    Uninstalling tensorflow-2.3.0:\n",
            "      Successfully uninstalled tensorflow-2.3.0\n",
            "Successfully installed setuptools-39.1.0 tensorboard-1.9.0 tensorflow-1.9.0\n"
          ],
          "name": "stdout"
        },
        {
          "output_type": "display_data",
          "data": {
            "application/vnd.colab-display-data+json": {
              "pip_warning": {
                "packages": [
                  "pkg_resources"
                ]
              }
            }
          },
          "metadata": {
            "tags": []
          }
        },
        {
          "output_type": "stream",
          "text": [
            "Collecting Keras==2.2.0\n",
            "\u001b[?25l  Downloading https://files.pythonhosted.org/packages/68/12/4cabc5c01451eb3b413d19ea151f36e33026fc0efb932bf51bcaf54acbf5/Keras-2.2.0-py2.py3-none-any.whl (300kB)\n",
            "\r\u001b[K     |█                               | 10kB 21.8MB/s eta 0:00:01\r\u001b[K     |██▏                             | 20kB 25.9MB/s eta 0:00:01\r\u001b[K     |███▎                            | 30kB 17.2MB/s eta 0:00:01\r\u001b[K     |████▍                           | 40kB 14.0MB/s eta 0:00:01\r\u001b[K     |█████▌                          | 51kB 11.0MB/s eta 0:00:01\r\u001b[K     |██████▌                         | 61kB 10.8MB/s eta 0:00:01\r\u001b[K     |███████▋                        | 71kB 10.9MB/s eta 0:00:01\r\u001b[K     |████████▊                       | 81kB 10.9MB/s eta 0:00:01\r\u001b[K     |█████████▉                      | 92kB 10.3MB/s eta 0:00:01\r\u001b[K     |███████████                     | 102kB 10.4MB/s eta 0:00:01\r\u001b[K     |████████████                    | 112kB 10.4MB/s eta 0:00:01\r\u001b[K     |█████████████                   | 122kB 10.4MB/s eta 0:00:01\r\u001b[K     |██████████████▏                 | 133kB 10.4MB/s eta 0:00:01\r\u001b[K     |███████████████▎                | 143kB 10.4MB/s eta 0:00:01\r\u001b[K     |████████████████▍               | 153kB 10.4MB/s eta 0:00:01\r\u001b[K     |█████████████████▍              | 163kB 10.4MB/s eta 0:00:01\r\u001b[K     |██████████████████▌             | 174kB 10.4MB/s eta 0:00:01\r\u001b[K     |███████████████████▋            | 184kB 10.4MB/s eta 0:00:01\r\u001b[K     |████████████████████▊           | 194kB 10.4MB/s eta 0:00:01\r\u001b[K     |█████████████████████▉          | 204kB 10.4MB/s eta 0:00:01\r\u001b[K     |██████████████████████▉         | 215kB 10.4MB/s eta 0:00:01\r\u001b[K     |████████████████████████        | 225kB 10.4MB/s eta 0:00:01\r\u001b[K     |█████████████████████████       | 235kB 10.4MB/s eta 0:00:01\r\u001b[K     |██████████████████████████▏     | 245kB 10.4MB/s eta 0:00:01\r\u001b[K     |███████████████████████████▎    | 256kB 10.4MB/s eta 0:00:01\r\u001b[K     |████████████████████████████▎   | 266kB 10.4MB/s eta 0:00:01\r\u001b[K     |█████████████████████████████▍  | 276kB 10.4MB/s eta 0:00:01\r\u001b[K     |██████████████████████████████▌ | 286kB 10.4MB/s eta 0:00:01\r\u001b[K     |███████████████████████████████▋| 296kB 10.4MB/s eta 0:00:01\r\u001b[K     |████████████████████████████████| 307kB 10.4MB/s \n",
            "\u001b[?25hRequirement already satisfied: six>=1.9.0 in /usr/local/lib/python3.6/dist-packages (from Keras==2.2.0) (1.15.0)\n",
            "Requirement already satisfied: pyyaml in /usr/local/lib/python3.6/dist-packages (from Keras==2.2.0) (3.13)\n",
            "Requirement already satisfied: h5py in /usr/local/lib/python3.6/dist-packages (from Keras==2.2.0) (2.10.0)\n",
            "Collecting keras-preprocessing==1.0.1\n",
            "  Downloading https://files.pythonhosted.org/packages/f8/33/275506afe1d96b221f66f95adba94d1b73f6b6087cfb6132a5655b6fe338/Keras_Preprocessing-1.0.1-py2.py3-none-any.whl\n",
            "Requirement already satisfied: scipy>=0.14 in /usr/local/lib/python3.6/dist-packages (from Keras==2.2.0) (1.4.1)\n",
            "Collecting keras-applications==1.0.2\n",
            "\u001b[?25l  Downloading https://files.pythonhosted.org/packages/e2/60/c557075e586e968d7a9c314aa38c236b37cb3ee6b37e8d57152b1a5e0b47/Keras_Applications-1.0.2-py2.py3-none-any.whl (43kB)\n",
            "\u001b[K     |████████████████████████████████| 51kB 8.7MB/s \n",
            "\u001b[?25hRequirement already satisfied: numpy>=1.9.1 in /usr/local/lib/python3.6/dist-packages (from Keras==2.2.0) (1.18.5)\n",
            "Installing collected packages: keras-preprocessing, keras-applications, Keras\n",
            "  Found existing installation: Keras-Preprocessing 1.1.2\n",
            "    Uninstalling Keras-Preprocessing-1.1.2:\n",
            "      Successfully uninstalled Keras-Preprocessing-1.1.2\n",
            "  Found existing installation: Keras 2.4.3\n",
            "    Uninstalling Keras-2.4.3:\n",
            "      Successfully uninstalled Keras-2.4.3\n",
            "Successfully installed Keras-2.2.0 keras-applications-1.0.2 keras-preprocessing-1.0.1\n",
            "Collecting Keras-Applications==1.0.4\n",
            "\u001b[?25l  Downloading https://files.pythonhosted.org/packages/54/90/8f327deaa37a71caddb59b7b4aaa9d4b3e90c0e76f8c2d1572005278ddc5/Keras_Applications-1.0.4-py2.py3-none-any.whl (43kB)\n",
            "\u001b[K     |████████████████████████████████| 51kB 6.8MB/s \n",
            "\u001b[?25hRequirement already satisfied: keras>=2.1.6 in /usr/local/lib/python3.6/dist-packages (from Keras-Applications==1.0.4) (2.2.0)\n",
            "Requirement already satisfied: numpy>=1.9.1 in /usr/local/lib/python3.6/dist-packages (from Keras-Applications==1.0.4) (1.18.5)\n",
            "Requirement already satisfied: h5py in /usr/local/lib/python3.6/dist-packages (from Keras-Applications==1.0.4) (2.10.0)\n",
            "Requirement already satisfied: pyyaml in /usr/local/lib/python3.6/dist-packages (from keras>=2.1.6->Keras-Applications==1.0.4) (3.13)\n",
            "Requirement already satisfied: keras-preprocessing==1.0.1 in /usr/local/lib/python3.6/dist-packages (from keras>=2.1.6->Keras-Applications==1.0.4) (1.0.1)\n",
            "Requirement already satisfied: six>=1.9.0 in /usr/local/lib/python3.6/dist-packages (from keras>=2.1.6->Keras-Applications==1.0.4) (1.15.0)\n",
            "Requirement already satisfied: scipy>=0.14 in /usr/local/lib/python3.6/dist-packages (from keras>=2.1.6->Keras-Applications==1.0.4) (1.4.1)\n",
            "\u001b[31mERROR: keras 2.2.0 has requirement keras-applications==1.0.2, but you'll have keras-applications 1.0.4 which is incompatible.\u001b[0m\n",
            "Installing collected packages: Keras-Applications\n",
            "  Found existing installation: Keras-Applications 1.0.2\n",
            "    Uninstalling Keras-Applications-1.0.2:\n",
            "      Successfully uninstalled Keras-Applications-1.0.2\n",
            "Successfully installed Keras-Applications-1.0.4\n",
            "Collecting Keras-Preprocessing==1.0.2\n",
            "  Downloading https://files.pythonhosted.org/packages/71/26/1e778ebd737032749824d5cba7dbd3b0cf9234b87ab5ec79f5f0403ca7e9/Keras_Preprocessing-1.0.2-py2.py3-none-any.whl\n",
            "Requirement already satisfied: scipy>=0.14 in /usr/local/lib/python3.6/dist-packages (from Keras-Preprocessing==1.0.2) (1.4.1)\n",
            "Requirement already satisfied: numpy>=1.9.1 in /usr/local/lib/python3.6/dist-packages (from Keras-Preprocessing==1.0.2) (1.18.5)\n",
            "Requirement already satisfied: keras>=2.1.6 in /usr/local/lib/python3.6/dist-packages (from Keras-Preprocessing==1.0.2) (2.2.0)\n",
            "Requirement already satisfied: six>=1.9.0 in /usr/local/lib/python3.6/dist-packages (from Keras-Preprocessing==1.0.2) (1.15.0)\n",
            "Requirement already satisfied: h5py in /usr/local/lib/python3.6/dist-packages (from keras>=2.1.6->Keras-Preprocessing==1.0.2) (2.10.0)\n",
            "Requirement already satisfied: pyyaml in /usr/local/lib/python3.6/dist-packages (from keras>=2.1.6->Keras-Preprocessing==1.0.2) (3.13)\n",
            "Collecting keras-applications==1.0.2\n",
            "  Using cached https://files.pythonhosted.org/packages/e2/60/c557075e586e968d7a9c314aa38c236b37cb3ee6b37e8d57152b1a5e0b47/Keras_Applications-1.0.2-py2.py3-none-any.whl\n",
            "\u001b[31mERROR: keras 2.2.0 has requirement keras-preprocessing==1.0.1, but you'll have keras-preprocessing 1.0.2 which is incompatible.\u001b[0m\n",
            "Installing collected packages: Keras-Preprocessing, keras-applications\n",
            "  Found existing installation: Keras-Preprocessing 1.0.1\n",
            "    Uninstalling Keras-Preprocessing-1.0.1:\n",
            "      Successfully uninstalled Keras-Preprocessing-1.0.1\n",
            "  Found existing installation: Keras-Applications 1.0.4\n",
            "    Uninstalling Keras-Applications-1.0.4:\n",
            "      Successfully uninstalled Keras-Applications-1.0.4\n",
            "Successfully installed Keras-Preprocessing-1.0.2 keras-applications-1.0.2\n"
          ],
          "name": "stdout"
        }
      ]
    },
    {
      "cell_type": "code",
      "metadata": {
        "id": "tkCBEvJL1AKd",
        "outputId": "a3533369-3944-4098-c8b3-39f9a0331499",
        "colab": {
          "base_uri": "https://localhost:8080/"
        }
      },
      "source": [
        "!pip install elephas"
      ],
      "execution_count": null,
      "outputs": [
        {
          "output_type": "stream",
          "text": [
            "Collecting elephas\n",
            "  Downloading https://files.pythonhosted.org/packages/d9/f7/4b1542d95ad17fefff5cfbc0df732f8b082c758ed48d1738768df5cec4da/elephas-0.4.3-py3-none-any.whl\n",
            "Requirement already satisfied: cython in /usr/local/lib/python3.6/dist-packages (from elephas) (0.29.21)\n",
            "Requirement already satisfied: flask in /usr/local/lib/python3.6/dist-packages (from elephas) (1.1.2)\n",
            "Requirement already satisfied: tensorflow in /usr/local/lib/python3.6/dist-packages (from elephas) (1.9.0)\n",
            "Requirement already satisfied: keras in /usr/local/lib/python3.6/dist-packages (from elephas) (2.2.0)\n",
            "Collecting hyperas\n",
            "  Downloading https://files.pythonhosted.org/packages/04/34/87ad6ffb42df9c1fa9c4c906f65813d42ad70d68c66af4ffff048c228cd4/hyperas-0.4.1-py3-none-any.whl\n",
            "Requirement already satisfied: six in /usr/local/lib/python3.6/dist-packages (from elephas) (1.15.0)\n",
            "Requirement already satisfied: pyspark in /usr/local/lib/python3.6/dist-packages (from elephas) (2.4.4)\n",
            "Requirement already satisfied: Werkzeug>=0.15 in /usr/local/lib/python3.6/dist-packages (from flask->elephas) (1.0.1)\n",
            "Requirement already satisfied: Jinja2>=2.10.1 in /usr/local/lib/python3.6/dist-packages (from flask->elephas) (2.11.2)\n",
            "Requirement already satisfied: itsdangerous>=0.24 in /usr/local/lib/python3.6/dist-packages (from flask->elephas) (1.1.0)\n",
            "Requirement already satisfied: click>=5.1 in /usr/local/lib/python3.6/dist-packages (from flask->elephas) (7.1.2)\n",
            "Requirement already satisfied: termcolor>=1.1.0 in /usr/local/lib/python3.6/dist-packages (from tensorflow->elephas) (1.1.0)\n",
            "Requirement already satisfied: gast>=0.2.0 in /usr/local/lib/python3.6/dist-packages (from tensorflow->elephas) (0.3.3)\n",
            "Requirement already satisfied: absl-py>=0.1.6 in /usr/local/lib/python3.6/dist-packages (from tensorflow->elephas) (0.10.0)\n",
            "Requirement already satisfied: tensorboard<1.10.0,>=1.9.0 in /usr/local/lib/python3.6/dist-packages (from tensorflow->elephas) (1.9.0)\n",
            "Requirement already satisfied: astor>=0.6.0 in /usr/local/lib/python3.6/dist-packages (from tensorflow->elephas) (0.8.1)\n",
            "Requirement already satisfied: protobuf>=3.4.0 in /usr/local/lib/python3.6/dist-packages (from tensorflow->elephas) (3.12.4)\n",
            "Requirement already satisfied: setuptools<=39.1.0 in /usr/local/lib/python3.6/dist-packages (from tensorflow->elephas) (39.1.0)\n",
            "Requirement already satisfied: numpy>=1.13.3 in /usr/local/lib/python3.6/dist-packages (from tensorflow->elephas) (1.18.5)\n",
            "Requirement already satisfied: wheel>=0.26 in /usr/local/lib/python3.6/dist-packages (from tensorflow->elephas) (0.35.1)\n",
            "Requirement already satisfied: grpcio>=1.8.6 in /usr/local/lib/python3.6/dist-packages (from tensorflow->elephas) (1.33.2)\n",
            "Requirement already satisfied: scipy>=0.14 in /usr/local/lib/python3.6/dist-packages (from keras->elephas) (1.4.1)\n",
            "Requirement already satisfied: h5py in /usr/local/lib/python3.6/dist-packages (from keras->elephas) (2.10.0)\n",
            "Requirement already satisfied: keras-applications==1.0.2 in /usr/local/lib/python3.6/dist-packages (from keras->elephas) (1.0.2)\n",
            "Collecting keras-preprocessing==1.0.1\n",
            "  Using cached https://files.pythonhosted.org/packages/f8/33/275506afe1d96b221f66f95adba94d1b73f6b6087cfb6132a5655b6fe338/Keras_Preprocessing-1.0.1-py2.py3-none-any.whl\n",
            "Requirement already satisfied: pyyaml in /usr/local/lib/python3.6/dist-packages (from keras->elephas) (3.13)\n",
            "Requirement already satisfied: hyperopt in /usr/local/lib/python3.6/dist-packages (from hyperas->elephas) (0.1.2)\n",
            "Requirement already satisfied: jupyter in /usr/local/lib/python3.6/dist-packages (from hyperas->elephas) (1.0.0)\n",
            "Requirement already satisfied: nbconvert in /usr/local/lib/python3.6/dist-packages (from hyperas->elephas) (5.6.1)\n",
            "Requirement already satisfied: entrypoints in /usr/local/lib/python3.6/dist-packages (from hyperas->elephas) (0.3)\n",
            "Requirement already satisfied: nbformat in /usr/local/lib/python3.6/dist-packages (from hyperas->elephas) (5.0.8)\n",
            "Requirement already satisfied: py4j==0.10.7 in /usr/local/lib/python3.6/dist-packages (from pyspark->elephas) (0.10.7)\n",
            "Requirement already satisfied: MarkupSafe>=0.23 in /usr/local/lib/python3.6/dist-packages (from Jinja2>=2.10.1->flask->elephas) (1.1.1)\n",
            "Requirement already satisfied: markdown>=2.6.8 in /usr/local/lib/python3.6/dist-packages (from tensorboard<1.10.0,>=1.9.0->tensorflow->elephas) (3.3.3)\n",
            "Requirement already satisfied: tqdm in /usr/local/lib/python3.6/dist-packages (from hyperopt->hyperas->elephas) (4.41.1)\n",
            "Requirement already satisfied: pymongo in /usr/local/lib/python3.6/dist-packages (from hyperopt->hyperas->elephas) (3.11.0)\n",
            "Requirement already satisfied: networkx in /usr/local/lib/python3.6/dist-packages (from hyperopt->hyperas->elephas) (2.5)\n",
            "Requirement already satisfied: future in /usr/local/lib/python3.6/dist-packages (from hyperopt->hyperas->elephas) (0.16.0)\n",
            "Requirement already satisfied: ipywidgets in /usr/local/lib/python3.6/dist-packages (from jupyter->hyperas->elephas) (7.5.1)\n",
            "Requirement already satisfied: qtconsole in /usr/local/lib/python3.6/dist-packages (from jupyter->hyperas->elephas) (4.7.7)\n",
            "Requirement already satisfied: ipykernel in /usr/local/lib/python3.6/dist-packages (from jupyter->hyperas->elephas) (4.10.1)\n",
            "Requirement already satisfied: jupyter-console in /usr/local/lib/python3.6/dist-packages (from jupyter->hyperas->elephas) (5.2.0)\n",
            "Requirement already satisfied: notebook in /usr/local/lib/python3.6/dist-packages (from jupyter->hyperas->elephas) (5.3.1)\n",
            "Requirement already satisfied: defusedxml in /usr/local/lib/python3.6/dist-packages (from nbconvert->hyperas->elephas) (0.6.0)\n",
            "Requirement already satisfied: pandocfilters>=1.4.1 in /usr/local/lib/python3.6/dist-packages (from nbconvert->hyperas->elephas) (1.4.3)\n",
            "Requirement already satisfied: jupyter-core in /usr/local/lib/python3.6/dist-packages (from nbconvert->hyperas->elephas) (4.6.3)\n",
            "Requirement already satisfied: testpath in /usr/local/lib/python3.6/dist-packages (from nbconvert->hyperas->elephas) (0.4.4)\n",
            "Requirement already satisfied: mistune<2,>=0.8.1 in /usr/local/lib/python3.6/dist-packages (from nbconvert->hyperas->elephas) (0.8.4)\n",
            "Requirement already satisfied: pygments in /usr/local/lib/python3.6/dist-packages (from nbconvert->hyperas->elephas) (2.6.1)\n",
            "Requirement already satisfied: traitlets>=4.2 in /usr/local/lib/python3.6/dist-packages (from nbconvert->hyperas->elephas) (4.3.3)\n",
            "Requirement already satisfied: bleach in /usr/local/lib/python3.6/dist-packages (from nbconvert->hyperas->elephas) (3.2.1)\n",
            "Requirement already satisfied: ipython-genutils in /usr/local/lib/python3.6/dist-packages (from nbformat->hyperas->elephas) (0.2.0)\n",
            "Requirement already satisfied: jsonschema!=2.5.0,>=2.4 in /usr/local/lib/python3.6/dist-packages (from nbformat->hyperas->elephas) (2.6.0)\n",
            "Requirement already satisfied: importlib-metadata; python_version < \"3.8\" in /usr/local/lib/python3.6/dist-packages (from markdown>=2.6.8->tensorboard<1.10.0,>=1.9.0->tensorflow->elephas) (2.0.0)\n",
            "Requirement already satisfied: decorator>=4.3.0 in /usr/local/lib/python3.6/dist-packages (from networkx->hyperopt->hyperas->elephas) (4.4.2)\n",
            "Requirement already satisfied: widgetsnbextension~=3.5.0 in /usr/local/lib/python3.6/dist-packages (from ipywidgets->jupyter->hyperas->elephas) (3.5.1)\n",
            "Requirement already satisfied: ipython>=4.0.0; python_version >= \"3.3\" in /usr/local/lib/python3.6/dist-packages (from ipywidgets->jupyter->hyperas->elephas) (5.5.0)\n",
            "Requirement already satisfied: pyzmq>=17.1 in /usr/local/lib/python3.6/dist-packages (from qtconsole->jupyter->hyperas->elephas) (19.0.2)\n",
            "Requirement already satisfied: qtpy in /usr/local/lib/python3.6/dist-packages (from qtconsole->jupyter->hyperas->elephas) (1.9.0)\n",
            "Requirement already satisfied: jupyter-client>=4.1 in /usr/local/lib/python3.6/dist-packages (from qtconsole->jupyter->hyperas->elephas) (5.3.5)\n",
            "Requirement already satisfied: tornado>=4.0 in /usr/local/lib/python3.6/dist-packages (from ipykernel->jupyter->hyperas->elephas) (5.1.1)\n",
            "Requirement already satisfied: prompt-toolkit<2.0.0,>=1.0.0 in /usr/local/lib/python3.6/dist-packages (from jupyter-console->jupyter->hyperas->elephas) (1.0.18)\n",
            "Requirement already satisfied: terminado>=0.8.1 in /usr/local/lib/python3.6/dist-packages (from notebook->jupyter->hyperas->elephas) (0.9.1)\n",
            "Requirement already satisfied: Send2Trash in /usr/local/lib/python3.6/dist-packages (from notebook->jupyter->hyperas->elephas) (1.5.0)\n",
            "Requirement already satisfied: webencodings in /usr/local/lib/python3.6/dist-packages (from bleach->nbconvert->hyperas->elephas) (0.5.1)\n",
            "Requirement already satisfied: packaging in /usr/local/lib/python3.6/dist-packages (from bleach->nbconvert->hyperas->elephas) (20.4)\n",
            "Requirement already satisfied: zipp>=0.5 in /usr/local/lib/python3.6/dist-packages (from importlib-metadata; python_version < \"3.8\"->markdown>=2.6.8->tensorboard<1.10.0,>=1.9.0->tensorflow->elephas) (3.4.0)\n",
            "Requirement already satisfied: pickleshare in /usr/local/lib/python3.6/dist-packages (from ipython>=4.0.0; python_version >= \"3.3\"->ipywidgets->jupyter->hyperas->elephas) (0.7.5)\n",
            "Requirement already satisfied: pexpect; sys_platform != \"win32\" in /usr/local/lib/python3.6/dist-packages (from ipython>=4.0.0; python_version >= \"3.3\"->ipywidgets->jupyter->hyperas->elephas) (4.8.0)\n",
            "Requirement already satisfied: simplegeneric>0.8 in /usr/local/lib/python3.6/dist-packages (from ipython>=4.0.0; python_version >= \"3.3\"->ipywidgets->jupyter->hyperas->elephas) (0.8.1)\n",
            "Requirement already satisfied: python-dateutil>=2.1 in /usr/local/lib/python3.6/dist-packages (from jupyter-client>=4.1->qtconsole->jupyter->hyperas->elephas) (2.8.1)\n",
            "Requirement already satisfied: wcwidth in /usr/local/lib/python3.6/dist-packages (from prompt-toolkit<2.0.0,>=1.0.0->jupyter-console->jupyter->hyperas->elephas) (0.2.5)\n",
            "Requirement already satisfied: ptyprocess; os_name != \"nt\" in /usr/local/lib/python3.6/dist-packages (from terminado>=0.8.1->notebook->jupyter->hyperas->elephas) (0.6.0)\n",
            "Requirement already satisfied: pyparsing>=2.0.2 in /usr/local/lib/python3.6/dist-packages (from packaging->bleach->nbconvert->hyperas->elephas) (2.4.7)\n",
            "Installing collected packages: hyperas, elephas, keras-preprocessing\n",
            "  Found existing installation: Keras-Preprocessing 1.0.2\n",
            "    Uninstalling Keras-Preprocessing-1.0.2:\n",
            "      Successfully uninstalled Keras-Preprocessing-1.0.2\n",
            "Successfully installed elephas-0.4.3 hyperas-0.4.1 keras-preprocessing-1.0.1\n"
          ],
          "name": "stdout"
        }
      ]
    },
    {
      "cell_type": "code",
      "metadata": {
        "id": "FuUq4GTY3mur",
        "outputId": "8426fca6-fc4b-4bce-c01b-8b413333b2d3",
        "colab": {
          "base_uri": "https://localhost:8080/"
        }
      },
      "source": [
        "from __future__ import absolute_import\n",
        "from __future__ import print_function\n",
        "\n",
        "from keras.datasets import mnist\n",
        "from keras.models import Sequential\n",
        "from keras.layers.core import Dense, Dropout, Activation\n",
        "from keras.optimizers import SGD\n",
        "from keras.utils import np_utils\n",
        "\n",
        "from elephas.spark_model import SparkModel\n",
        "from elephas.utils.rdd_utils import to_simple_rdd\n",
        "\n",
        "from pyspark import SparkContext, SparkConf"
      ],
      "execution_count": null,
      "outputs": [
        {
          "output_type": "stream",
          "text": [
            "Using TensorFlow backend.\n",
            "/usr/local/lib/python3.6/dist-packages/tensorflow/python/framework/dtypes.py:523: FutureWarning: Passing (type, 1) or '1type' as a synonym of type is deprecated; in a future version of numpy, it will be understood as (type, (1,)) / '(1,)type'.\n",
            "  _np_qint8 = np.dtype([(\"qint8\", np.int8, 1)])\n",
            "/usr/local/lib/python3.6/dist-packages/tensorflow/python/framework/dtypes.py:524: FutureWarning: Passing (type, 1) or '1type' as a synonym of type is deprecated; in a future version of numpy, it will be understood as (type, (1,)) / '(1,)type'.\n",
            "  _np_quint8 = np.dtype([(\"quint8\", np.uint8, 1)])\n",
            "/usr/local/lib/python3.6/dist-packages/tensorflow/python/framework/dtypes.py:525: FutureWarning: Passing (type, 1) or '1type' as a synonym of type is deprecated; in a future version of numpy, it will be understood as (type, (1,)) / '(1,)type'.\n",
            "  _np_qint16 = np.dtype([(\"qint16\", np.int16, 1)])\n",
            "/usr/local/lib/python3.6/dist-packages/tensorflow/python/framework/dtypes.py:526: FutureWarning: Passing (type, 1) or '1type' as a synonym of type is deprecated; in a future version of numpy, it will be understood as (type, (1,)) / '(1,)type'.\n",
            "  _np_quint16 = np.dtype([(\"quint16\", np.uint16, 1)])\n",
            "/usr/local/lib/python3.6/dist-packages/tensorflow/python/framework/dtypes.py:527: FutureWarning: Passing (type, 1) or '1type' as a synonym of type is deprecated; in a future version of numpy, it will be understood as (type, (1,)) / '(1,)type'.\n",
            "  _np_qint32 = np.dtype([(\"qint32\", np.int32, 1)])\n",
            "/usr/local/lib/python3.6/dist-packages/tensorflow/python/framework/dtypes.py:532: FutureWarning: Passing (type, 1) or '1type' as a synonym of type is deprecated; in a future version of numpy, it will be understood as (type, (1,)) / '(1,)type'.\n",
            "  np_resource = np.dtype([(\"resource\", np.ubyte, 1)])\n"
          ],
          "name": "stderr"
        },
        {
          "output_type": "stream",
          "text": [
            "WARNING\n"
          ],
          "name": "stdout"
        }
      ]
    },
    {
      "cell_type": "code",
      "metadata": {
        "id": "SwzmuxK595k-",
        "outputId": "835f42c0-9659-4236-88c0-d9c5a0b297b0",
        "colab": {
          "base_uri": "https://localhost:8080/"
        }
      },
      "source": [
        "from google.colab import drive\n",
        "drive.mount('/content/drive/')"
      ],
      "execution_count": null,
      "outputs": [
        {
          "output_type": "stream",
          "text": [
            "Mounted at /content/drive/\n"
          ],
          "name": "stdout"
        }
      ]
    },
    {
      "cell_type": "code",
      "metadata": {
        "id": "fnfvpy5FFHuu"
      },
      "source": [
        "from pyspark.context import SparkContext\n",
        "from pyspark.sql.session import SparkSession\n",
        "sc = SparkContext('local')\n",
        "spark = SparkSession(sc)"
      ],
      "execution_count": null,
      "outputs": []
    },
    {
      "cell_type": "code",
      "metadata": {
        "id": "mXX6M3evgbss"
      },
      "source": [
        "import cv2\n",
        "from imutils import paths\n",
        "import os\n",
        "from keras.preprocessing.image import img_to_array\n",
        "\n",
        "data=[]\n",
        "labels=[]\n",
        "\n",
        "imagePaths = sorted(list(paths.list_images(\"/content/drive/My Drive/ds/dataset\")))\n",
        "for imagePath in imagePaths:\n",
        "  image = cv2.imread(imagePath)\n",
        "  image = cv2.resize(image,(50, 50))\n",
        "  image = cv2.cvtColor(image, cv2.COLOR_BGR2GRAY)\n",
        "  image = img_to_array(image)\n",
        "  data.append(image)\n",
        "  label = imagePath.split(os.path.sep)[-2]\n",
        "  label = 1 if label == \"with_mask\" else 0\n",
        "  labels.append(label)"
      ],
      "execution_count": null,
      "outputs": []
    },
    {
      "cell_type": "code",
      "metadata": {
        "id": "npBwLqOygpHY"
      },
      "source": [
        "import numpy as np\n",
        "data = np.array(data, dtype=\"float\") / 255.0\n",
        "labels = np.array(labels)"
      ],
      "execution_count": null,
      "outputs": []
    },
    {
      "cell_type": "code",
      "metadata": {
        "id": "Tz4yIK93qRqm"
      },
      "source": [
        "from sklearn.model_selection import train_test_split\n",
        "from keras.utils import to_categorical"
      ],
      "execution_count": null,
      "outputs": []
    },
    {
      "cell_type": "code",
      "metadata": {
        "id": "jz6VYHvvqUDB"
      },
      "source": [
        "from keras.models import Sequential\n",
        "from keras.layers import Conv2D\n",
        "from keras.layers import MaxPooling2D\n",
        "from keras.layers import Flatten\n",
        "from keras.layers import Dense\n",
        "\n",
        "classifier = Sequential()\n",
        "classifier.add(Conv2D(32, (5, 5), input_shape = (50, 50, 1), activation = 'relu'))\n",
        "classifier.add(MaxPooling2D(pool_size = (2, 2)))\n",
        "classifier.add(Conv2D(64, (5, 5), activation = 'relu'))\n",
        "classifier.add(MaxPooling2D(pool_size = (2, 2)))\n",
        "classifier.add(Conv2D(128, (5, 5), activation = 'relu'))\n",
        "classifier.add(MaxPooling2D(pool_size = (2, 2)))\n",
        "classifier.add(Flatten())\n",
        "classifier.add(Dense(units = 512, activation = 'relu'))\n",
        "classifier.add(Dense(units = 1, activation = 'sigmoid'))\n",
        "\n",
        "classifier.compile(optimizer = 'adam', loss = 'binary_crossentropy', metrics = ['accuracy'])"
      ],
      "execution_count": null,
      "outputs": []
    },
    {
      "cell_type": "code",
      "metadata": {
        "id": "_xHv3o8kqWax"
      },
      "source": [
        "from elephas.utils.rdd_utils import to_simple_rdd\n",
        "rdd = to_simple_rdd(sc, data, labels)"
      ],
      "execution_count": null,
      "outputs": []
    },
    {
      "cell_type": "code",
      "metadata": {
        "id": "UBR4nXgVqc0B",
        "outputId": "1cdb410a-7cde-43ce-d4d1-5bc32d45c0d0",
        "colab": {
          "base_uri": "https://localhost:8080/"
        }
      },
      "source": [
        "from elephas.spark_model import SparkModel\n",
        "import time\n",
        "\n",
        "spark_model = SparkModel(classifier, frequency='epoch', mode='asynchronous')\n",
        "start_time = time.time()\n",
        "spark_model.fit(rdd, epochs=30, batch_size=32, verbose=0, validation_split=0.1)\n",
        "print(\"--- %s seconds ---\" % (time.time() - start_time))"
      ],
      "execution_count": null,
      "outputs": [
        {
          "output_type": "stream",
          "text": [
            ">>> Fit model\n",
            " * Serving Flask app \"elephas.parameter.server\" (lazy loading)\n",
            " * Environment: production\n",
            "\u001b[31m   WARNING: This is a development server. Do not use it in a production deployment.\u001b[0m\n",
            "\u001b[2m   Use a production WSGI server instead.\u001b[0m\n",
            " * Debug mode: off\n"
          ],
          "name": "stdout"
        },
        {
          "output_type": "stream",
          "text": [
            " * Running on http://172.28.0.2:4000/ (Press CTRL+C to quit)\n"
          ],
          "name": "stderr"
        },
        {
          "output_type": "stream",
          "text": [
            ">>> Initialize workers\n",
            ">>> Distribute load\n"
          ],
          "name": "stdout"
        },
        {
          "output_type": "stream",
          "text": [
            "172.28.0.2 - - [09/Nov/2020 04:38:18] \"\u001b[37mGET /parameters HTTP/1.1\u001b[0m\" 200 -\n",
            "172.28.0.2 - - [09/Nov/2020 04:38:49] \"\u001b[37mPOST /update HTTP/1.1\u001b[0m\" 200 -\n",
            "172.28.0.2 - - [09/Nov/2020 04:38:49] \"\u001b[37mGET /parameters HTTP/1.1\u001b[0m\" 200 -\n",
            "172.28.0.2 - - [09/Nov/2020 04:39:19] \"\u001b[37mPOST /update HTTP/1.1\u001b[0m\" 200 -\n",
            "172.28.0.2 - - [09/Nov/2020 04:39:19] \"\u001b[37mGET /parameters HTTP/1.1\u001b[0m\" 200 -\n",
            "172.28.0.2 - - [09/Nov/2020 04:39:49] \"\u001b[37mPOST /update HTTP/1.1\u001b[0m\" 200 -\n",
            "172.28.0.2 - - [09/Nov/2020 04:39:49] \"\u001b[37mGET /parameters HTTP/1.1\u001b[0m\" 200 -\n",
            "172.28.0.2 - - [09/Nov/2020 04:40:19] \"\u001b[37mPOST /update HTTP/1.1\u001b[0m\" 200 -\n",
            "172.28.0.2 - - [09/Nov/2020 04:40:19] \"\u001b[37mGET /parameters HTTP/1.1\u001b[0m\" 200 -\n",
            "172.28.0.2 - - [09/Nov/2020 04:40:49] \"\u001b[37mPOST /update HTTP/1.1\u001b[0m\" 200 -\n",
            "172.28.0.2 - - [09/Nov/2020 04:40:49] \"\u001b[37mGET /parameters HTTP/1.1\u001b[0m\" 200 -\n",
            "172.28.0.2 - - [09/Nov/2020 04:41:19] \"\u001b[37mPOST /update HTTP/1.1\u001b[0m\" 200 -\n",
            "172.28.0.2 - - [09/Nov/2020 04:41:19] \"\u001b[37mGET /parameters HTTP/1.1\u001b[0m\" 200 -\n",
            "172.28.0.2 - - [09/Nov/2020 04:41:49] \"\u001b[37mPOST /update HTTP/1.1\u001b[0m\" 200 -\n",
            "172.28.0.2 - - [09/Nov/2020 04:41:49] \"\u001b[37mGET /parameters HTTP/1.1\u001b[0m\" 200 -\n",
            "172.28.0.2 - - [09/Nov/2020 04:42:19] \"\u001b[37mPOST /update HTTP/1.1\u001b[0m\" 200 -\n",
            "172.28.0.2 - - [09/Nov/2020 04:42:19] \"\u001b[37mGET /parameters HTTP/1.1\u001b[0m\" 200 -\n",
            "172.28.0.2 - - [09/Nov/2020 04:42:49] \"\u001b[37mPOST /update HTTP/1.1\u001b[0m\" 200 -\n",
            "172.28.0.2 - - [09/Nov/2020 04:42:49] \"\u001b[37mGET /parameters HTTP/1.1\u001b[0m\" 200 -\n",
            "172.28.0.2 - - [09/Nov/2020 04:43:19] \"\u001b[37mPOST /update HTTP/1.1\u001b[0m\" 200 -\n",
            "172.28.0.2 - - [09/Nov/2020 04:43:19] \"\u001b[37mGET /parameters HTTP/1.1\u001b[0m\" 200 -\n",
            "172.28.0.2 - - [09/Nov/2020 04:43:49] \"\u001b[37mPOST /update HTTP/1.1\u001b[0m\" 200 -\n",
            "172.28.0.2 - - [09/Nov/2020 04:43:49] \"\u001b[37mGET /parameters HTTP/1.1\u001b[0m\" 200 -\n",
            "172.28.0.2 - - [09/Nov/2020 04:44:19] \"\u001b[37mPOST /update HTTP/1.1\u001b[0m\" 200 -\n",
            "172.28.0.2 - - [09/Nov/2020 04:44:20] \"\u001b[37mGET /parameters HTTP/1.1\u001b[0m\" 200 -\n",
            "172.28.0.2 - - [09/Nov/2020 04:44:50] \"\u001b[37mPOST /update HTTP/1.1\u001b[0m\" 200 -\n",
            "172.28.0.2 - - [09/Nov/2020 04:44:50] \"\u001b[37mGET /parameters HTTP/1.1\u001b[0m\" 200 -\n",
            "172.28.0.2 - - [09/Nov/2020 04:45:21] \"\u001b[37mPOST /update HTTP/1.1\u001b[0m\" 200 -\n",
            "172.28.0.2 - - [09/Nov/2020 04:45:21] \"\u001b[37mGET /parameters HTTP/1.1\u001b[0m\" 200 -\n",
            "172.28.0.2 - - [09/Nov/2020 04:45:52] \"\u001b[37mPOST /update HTTP/1.1\u001b[0m\" 200 -\n",
            "172.28.0.2 - - [09/Nov/2020 04:45:52] \"\u001b[37mGET /parameters HTTP/1.1\u001b[0m\" 200 -\n",
            "172.28.0.2 - - [09/Nov/2020 04:46:23] \"\u001b[37mPOST /update HTTP/1.1\u001b[0m\" 200 -\n",
            "172.28.0.2 - - [09/Nov/2020 04:46:23] \"\u001b[37mGET /parameters HTTP/1.1\u001b[0m\" 200 -\n",
            "172.28.0.2 - - [09/Nov/2020 04:46:53] \"\u001b[37mPOST /update HTTP/1.1\u001b[0m\" 200 -\n",
            "172.28.0.2 - - [09/Nov/2020 04:46:53] \"\u001b[37mGET /parameters HTTP/1.1\u001b[0m\" 200 -\n",
            "172.28.0.2 - - [09/Nov/2020 04:47:24] \"\u001b[37mPOST /update HTTP/1.1\u001b[0m\" 200 -\n",
            "172.28.0.2 - - [09/Nov/2020 04:47:24] \"\u001b[37mGET /parameters HTTP/1.1\u001b[0m\" 200 -\n",
            "172.28.0.2 - - [09/Nov/2020 04:47:55] \"\u001b[37mPOST /update HTTP/1.1\u001b[0m\" 200 -\n",
            "172.28.0.2 - - [09/Nov/2020 04:47:55] \"\u001b[37mGET /parameters HTTP/1.1\u001b[0m\" 200 -\n",
            "172.28.0.2 - - [09/Nov/2020 04:48:26] \"\u001b[37mPOST /update HTTP/1.1\u001b[0m\" 200 -\n",
            "172.28.0.2 - - [09/Nov/2020 04:48:26] \"\u001b[37mGET /parameters HTTP/1.1\u001b[0m\" 200 -\n",
            "172.28.0.2 - - [09/Nov/2020 04:48:58] \"\u001b[37mPOST /update HTTP/1.1\u001b[0m\" 200 -\n",
            "172.28.0.2 - - [09/Nov/2020 04:48:58] \"\u001b[37mGET /parameters HTTP/1.1\u001b[0m\" 200 -\n",
            "172.28.0.2 - - [09/Nov/2020 04:49:29] \"\u001b[37mPOST /update HTTP/1.1\u001b[0m\" 200 -\n",
            "172.28.0.2 - - [09/Nov/2020 04:49:29] \"\u001b[37mGET /parameters HTTP/1.1\u001b[0m\" 200 -\n",
            "172.28.0.2 - - [09/Nov/2020 04:49:59] \"\u001b[37mPOST /update HTTP/1.1\u001b[0m\" 200 -\n",
            "172.28.0.2 - - [09/Nov/2020 04:49:59] \"\u001b[37mGET /parameters HTTP/1.1\u001b[0m\" 200 -\n",
            "172.28.0.2 - - [09/Nov/2020 04:50:30] \"\u001b[37mPOST /update HTTP/1.1\u001b[0m\" 200 -\n",
            "172.28.0.2 - - [09/Nov/2020 04:50:30] \"\u001b[37mGET /parameters HTTP/1.1\u001b[0m\" 200 -\n",
            "172.28.0.2 - - [09/Nov/2020 04:50:59] \"\u001b[37mPOST /update HTTP/1.1\u001b[0m\" 200 -\n",
            "172.28.0.2 - - [09/Nov/2020 04:50:59] \"\u001b[37mGET /parameters HTTP/1.1\u001b[0m\" 200 -\n",
            "172.28.0.2 - - [09/Nov/2020 04:51:29] \"\u001b[37mPOST /update HTTP/1.1\u001b[0m\" 200 -\n",
            "172.28.0.2 - - [09/Nov/2020 04:51:29] \"\u001b[37mGET /parameters HTTP/1.1\u001b[0m\" 200 -\n",
            "172.28.0.2 - - [09/Nov/2020 04:51:59] \"\u001b[37mPOST /update HTTP/1.1\u001b[0m\" 200 -\n",
            "172.28.0.2 - - [09/Nov/2020 04:51:59] \"\u001b[37mGET /parameters HTTP/1.1\u001b[0m\" 200 -\n",
            "172.28.0.2 - - [09/Nov/2020 04:52:30] \"\u001b[37mPOST /update HTTP/1.1\u001b[0m\" 200 -\n",
            "172.28.0.2 - - [09/Nov/2020 04:52:30] \"\u001b[37mGET /parameters HTTP/1.1\u001b[0m\" 200 -\n",
            "172.28.0.2 - - [09/Nov/2020 04:53:00] \"\u001b[37mPOST /update HTTP/1.1\u001b[0m\" 200 -\n",
            "172.28.0.2 - - [09/Nov/2020 04:53:00] \"\u001b[37mGET /parameters HTTP/1.1\u001b[0m\" 200 -\n",
            "172.28.0.2 - - [09/Nov/2020 04:53:30] \"\u001b[37mPOST /update HTTP/1.1\u001b[0m\" 200 -\n",
            "172.28.0.2 - - [09/Nov/2020 04:53:30] \"\u001b[37mGET /parameters HTTP/1.1\u001b[0m\" 200 -\n"
          ],
          "name": "stderr"
        },
        {
          "output_type": "stream",
          "text": [
            ">>> Async training complete.\n",
            "--- 915.6668841838837 seconds ---\n"
          ],
          "name": "stdout"
        }
      ]
    },
    {
      "cell_type": "code",
      "metadata": {
        "id": "HcJpkXj6qfGg",
        "outputId": "5852c18d-0695-4209-972b-5d981ed041e5",
        "colab": {
          "base_uri": "https://localhost:8080/"
        }
      },
      "source": [
        "score = spark_model.master_network.evaluate(data, labels, verbose=2)\n",
        "print('Test accuracy:', score[1])"
      ],
      "execution_count": null,
      "outputs": [
        {
          "output_type": "stream",
          "text": [
            "Test accuracy: 0.9811113551635415\n"
          ],
          "name": "stdout"
        }
      ]
    },
    {
      "cell_type": "code",
      "metadata": {
        "id": "KpKR5DdOybi0"
      },
      "source": [
        "np.save('Data',data)"
      ],
      "execution_count": null,
      "outputs": []
    },
    {
      "cell_type": "code",
      "metadata": {
        "id": "tDL9jOBz0ITn"
      },
      "source": [
        "np.save('labels',labels)"
      ],
      "execution_count": null,
      "outputs": []
    },
    {
      "cell_type": "code",
      "metadata": {
        "id": "cXj2oMDM0QNS"
      },
      "source": [
        ""
      ],
      "execution_count": null,
      "outputs": []
    }
  ]
}